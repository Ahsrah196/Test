{
 "cells": [
  {
   "cell_type": "markdown",
   "id": "2b4d2e74",
   "metadata": {},
   "source": [
    "#  Assignment 3"
   ]
  },
  {
   "cell_type": "markdown",
   "id": "312f32c3",
   "metadata": {},
   "source": [
    "### 1.Why are functions advantageous to have in your programs?"
   ]
  },
  {
   "cell_type": "markdown",
   "id": "d05641cf",
   "metadata": {},
   "source": [
    "Functions reduce the need for duplicate code. This makes programs shorter, easier to read and easier to update, with The main advantage of functions being code Reusability"
   ]
  },
  {
   "cell_type": "markdown",
   "id": "cc1f0ac3",
   "metadata": {},
   "source": [
    "### 2. When does the code in a function run: when it&#39;s specified or when it&#39;s called?"
   ]
  },
  {
   "cell_type": "markdown",
   "id": "5434304e",
   "metadata": {},
   "source": [
    "The code in a function executes when the function is called, not when the function is specified."
   ]
  },
  {
   "cell_type": "markdown",
   "id": "9b880a72",
   "metadata": {},
   "source": [
    "### 3. What statement creates a function?"
   ]
  },
  {
   "cell_type": "markdown",
   "id": "77cd1622",
   "metadata": {},
   "source": [
    "def function_name(parameters):\n",
    "    \"\"\"doc string\"\"\"          \n",
    "    \n",
    "    \"Code for Function Body\"\n",
    "    \n",
    "    return value"
   ]
  },
  {
   "cell_type": "markdown",
   "id": "08e42355",
   "metadata": {},
   "source": [
    "### 4. What is the difference between a function and a function call?"
   ]
  },
  {
   "cell_type": "markdown",
   "id": "62c66e63",
   "metadata": {},
   "source": [
    "Function is a block of code written to perform certain tasks and sometimes return a  value. Functions may take parametres or maynot take. \n",
    "\n",
    "with function call we give control for the function to execute"
   ]
  },
  {
   "cell_type": "markdown",
   "id": "2ed63603",
   "metadata": {},
   "source": [
    "### 5. How many global scopes are there in a Python program? How many local scopes?"
   ]
  },
  {
   "cell_type": "markdown",
   "id": "2a603189",
   "metadata": {},
   "source": [
    "Global scope is created only once when a program in created and it terminates when the program ends. \n",
    "local scopes are created whenever a new function is created and these terminate when execution of the function completes"
   ]
  },
  {
   "cell_type": "markdown",
   "id": "f89dc8cf",
   "metadata": {},
   "source": [
    "### 6. What happens to variables in a local scope when the function call returns?"
   ]
  },
  {
   "cell_type": "markdown",
   "id": "07d462a3",
   "metadata": {},
   "source": [
    "All the local variables are destroyed after execution of function ends"
   ]
  },
  {
   "cell_type": "markdown",
   "id": "a90d2ae9",
   "metadata": {},
   "source": [
    "###  7. What is the concept of a return value? Is it possible to have a return value in an expression?"
   ]
  },
  {
   "cell_type": "markdown",
   "id": "082fa4eb",
   "metadata": {},
   "source": [
    "A return value is the value returned after execution of a function. Like any value, a return value can be used as part of an expression."
   ]
  },
  {
   "cell_type": "markdown",
   "id": "e67fccbf",
   "metadata": {},
   "source": [
    "### 8. If a function does not have a return statement, what is the return value of a call to that function?"
   ]
  },
  {
   "cell_type": "markdown",
   "id": "a348e3c1",
   "metadata": {},
   "source": [
    "By default  it return NONE value"
   ]
  },
  {
   "cell_type": "markdown",
   "id": "2dadf38b",
   "metadata": {},
   "source": [
    "### 9. How do you make a function variable refer to the global variable?"
   ]
  },
  {
   "cell_type": "markdown",
   "id": "6ad35b28",
   "metadata": {},
   "source": [
    "To refer to a global variable inside a function, use the \"global\" keyword to declare which variables will be global."
   ]
  },
  {
   "cell_type": "markdown",
   "id": "008c215f",
   "metadata": {},
   "source": [
    "### 10. What is the data type of None?"
   ]
  },
  {
   "cell_type": "code",
   "execution_count": 3,
   "id": "4275f0a6",
   "metadata": {},
   "outputs": [
    {
     "data": {
      "text/plain": [
       "NoneType"
      ]
     },
     "execution_count": 3,
     "metadata": {},
     "output_type": "execute_result"
    }
   ],
   "source": [
    "type(None)"
   ]
  },
  {
   "cell_type": "markdown",
   "id": "65c33b8d",
   "metadata": {},
   "source": [
    "### 11. What does the sentence import areallyourpetsnamederic do?"
   ]
  },
  {
   "cell_type": "markdown",
   "id": "f58224a0",
   "metadata": {},
   "source": [
    "It imports a module named areallyourpetsnamederic if it exists or throws error if such module doesn't exist"
   ]
  },
  {
   "cell_type": "markdown",
   "id": "10212b74",
   "metadata": {},
   "source": [
    "### 12. If you had a bacon() feature in a spam module, what would you call it after importing spam?"
   ]
  },
  {
   "cell_type": "markdown",
   "id": "30874371",
   "metadata": {},
   "source": [
    "spam.bacon()"
   ]
  },
  {
   "cell_type": "markdown",
   "id": "344f51f5",
   "metadata": {},
   "source": [
    "### 13. What can you do to save a programme from crashing if it encounters an error?"
   ]
  },
  {
   "cell_type": "markdown",
   "id": "48082a7b",
   "metadata": {},
   "source": [
    "By using exception handling\n",
    "\n",
    "place in the code in \"try\" block and use \"except\"  block to handle the error"
   ]
  },
  {
   "cell_type": "markdown",
   "id": "30b3cb37",
   "metadata": {},
   "source": [
    "### 14. What is the purpose of the try clause? What is the purpose of the except clause?"
   ]
  },
  {
   "cell_type": "markdown",
   "id": "e7a9ff4e",
   "metadata": {},
   "source": [
    "The code that may cause Error is placed in \"Try\" block and to handle the error caused \"except\" block is used so that program doesn't crash completely "
   ]
  },
  {
   "cell_type": "code",
   "execution_count": null,
   "id": "24e587e7",
   "metadata": {},
   "outputs": [],
   "source": []
  }
 ],
 "metadata": {
  "kernelspec": {
   "display_name": "Python 3 (ipykernel)",
   "language": "python",
   "name": "python3"
  },
  "language_info": {
   "codemirror_mode": {
    "name": "ipython",
    "version": 3
   },
   "file_extension": ".py",
   "mimetype": "text/x-python",
   "name": "python",
   "nbconvert_exporter": "python",
   "pygments_lexer": "ipython3",
   "version": "3.9.12"
  }
 },
 "nbformat": 4,
 "nbformat_minor": 5
}
