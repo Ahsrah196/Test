{
 "cells": [
  {
   "cell_type": "markdown",
   "id": "b530f534",
   "metadata": {},
   "source": [
    "# programming assignment 2"
   ]
  },
  {
   "cell_type": "markdown",
   "id": "b51ecb75",
   "metadata": {},
   "source": [
    "### 1)\n"
   ]
  },
  {
   "cell_type": "code",
   "execution_count": 17,
   "id": "42132b1c",
   "metadata": {},
   "outputs": [
    {
     "name": "stdout",
     "output_type": "stream",
     "text": [
      "enter distance in miles: 16\n",
      "16  to kilometres is:  10.0\n"
     ]
    }
   ],
   "source": [
    "def distance():\n",
    "    miles=int(input(\"enter distance in miles: \"))\n",
    "    kilometres= (miles/1.6)\n",
    "    print(miles,\" to kilometres is: \", kilometres)\n",
    "    \n",
    "distance()"
   ]
  },
  {
   "cell_type": "markdown",
   "id": "426ad98a",
   "metadata": {},
   "source": [
    "### 2)"
   ]
  },
  {
   "cell_type": "code",
   "execution_count": 13,
   "id": "0e77fc14",
   "metadata": {},
   "outputs": [
    {
     "name": "stdout",
     "output_type": "stream",
     "text": [
      "Enter temperature in celsius is : 20\n",
      " temparature in farenhiet is 68.0\n"
     ]
    }
   ],
   "source": [
    "def Temparature ():\n",
    "    \n",
    "    celsius = int(input(\"Enter temperature in celsius is : \"))\n",
    "    Farenheit = (celsius*(9/5))+32\n",
    "    print(\" temparature in farenhiet is\", Farenheit)\n",
    "    \n",
    "Temparature()"
   ]
  },
  {
   "cell_type": "markdown",
   "id": "1bc36815",
   "metadata": {},
   "source": [
    "### 3)"
   ]
  },
  {
   "cell_type": "code",
   "execution_count": 11,
   "id": "e9ac27bf",
   "metadata": {},
   "outputs": [
    {
     "name": "stdout",
     "output_type": "stream",
     "text": [
      "Enter calender year: 2011\n",
      "                                  2011\n",
      "\n",
      "      January                   February                   March\n",
      "Mo Tu We Th Fr Sa Su      Mo Tu We Th Fr Sa Su      Mo Tu We Th Fr Sa Su\n",
      "                1  2          1  2  3  4  5  6          1  2  3  4  5  6\n",
      " 3  4  5  6  7  8  9       7  8  9 10 11 12 13       7  8  9 10 11 12 13\n",
      "10 11 12 13 14 15 16      14 15 16 17 18 19 20      14 15 16 17 18 19 20\n",
      "17 18 19 20 21 22 23      21 22 23 24 25 26 27      21 22 23 24 25 26 27\n",
      "24 25 26 27 28 29 30      28                        28 29 30 31\n",
      "31\n",
      "\n",
      "       April                      May                       June\n",
      "Mo Tu We Th Fr Sa Su      Mo Tu We Th Fr Sa Su      Mo Tu We Th Fr Sa Su\n",
      "             1  2  3                         1             1  2  3  4  5\n",
      " 4  5  6  7  8  9 10       2  3  4  5  6  7  8       6  7  8  9 10 11 12\n",
      "11 12 13 14 15 16 17       9 10 11 12 13 14 15      13 14 15 16 17 18 19\n",
      "18 19 20 21 22 23 24      16 17 18 19 20 21 22      20 21 22 23 24 25 26\n",
      "25 26 27 28 29 30         23 24 25 26 27 28 29      27 28 29 30\n",
      "                          30 31\n",
      "\n",
      "        July                     August                  September\n",
      "Mo Tu We Th Fr Sa Su      Mo Tu We Th Fr Sa Su      Mo Tu We Th Fr Sa Su\n",
      "             1  2  3       1  2  3  4  5  6  7                1  2  3  4\n",
      " 4  5  6  7  8  9 10       8  9 10 11 12 13 14       5  6  7  8  9 10 11\n",
      "11 12 13 14 15 16 17      15 16 17 18 19 20 21      12 13 14 15 16 17 18\n",
      "18 19 20 21 22 23 24      22 23 24 25 26 27 28      19 20 21 22 23 24 25\n",
      "25 26 27 28 29 30 31      29 30 31                  26 27 28 29 30\n",
      "\n",
      "      October                   November                  December\n",
      "Mo Tu We Th Fr Sa Su      Mo Tu We Th Fr Sa Su      Mo Tu We Th Fr Sa Su\n",
      "                1  2          1  2  3  4  5  6                1  2  3  4\n",
      " 3  4  5  6  7  8  9       7  8  9 10 11 12 13       5  6  7  8  9 10 11\n",
      "10 11 12 13 14 15 16      14 15 16 17 18 19 20      12 13 14 15 16 17 18\n",
      "17 18 19 20 21 22 23      21 22 23 24 25 26 27      19 20 21 22 23 24 25\n",
      "24 25 26 27 28 29 30      28 29 30                  26 27 28 29 30 31\n",
      "31\n",
      "\n"
     ]
    }
   ],
   "source": [
    "import calendar\n",
    "\n",
    "def Calender():\n",
    "    year = int(input(\"Enter calender year: \"))\n",
    "    print(calendar.calendar(year))\n",
    "    \n",
    "Calender()"
   ]
  },
  {
   "cell_type": "markdown",
   "id": "147bd996",
   "metadata": {},
   "source": [
    "### 4)"
   ]
  },
  {
   "cell_type": "code",
   "execution_count": 21,
   "id": "872b552a",
   "metadata": {},
   "outputs": [
    {
     "name": "stdout",
     "output_type": "stream",
     "text": [
      "Enter value of a: 5\n",
      "Enter value of b: 6\n",
      "Enter value of c: 2\n",
      "Imaginary Roots (-0.6-0.2j) (-0.6+0.2j)\n"
     ]
    }
   ],
   "source": [
    "import cmath\n",
    "import math\n",
    "\n",
    "def quadartic(a,b,c):\n",
    "    \n",
    "    D= b**2-4*a*c\n",
    "    \n",
    "    if D == 0:\n",
    "        r1 = -b/2*a\n",
    "        r2 = -b/2*a\n",
    "        print(\"Real roots\",r1,r2)\n",
    "    elif D > 0:\n",
    "        r1 = (-b-math.sqrt(D))/(2 * a)\n",
    "        r2 = (-b+math.sqrt(D))/(2 * a)\n",
    "        print(\"Real Roots\",r1,r2)\n",
    "    else:\n",
    "        r1 = (-b-cmath.sqrt(D))/(2 * a)\n",
    "        r2 = (-b+cmath.sqrt(D))/(2 * a)\n",
    "        print(\"Imaginary Roots\",r1,r2)\n",
    "\n",
    "\n",
    "a = int(input('Enter value of a: '))\n",
    "b = int(input('Enter value of b: '))\n",
    "c = int(input('Enter value of c: '))\n",
    "\n",
    "quadartic(a,b,c)"
   ]
  },
  {
   "cell_type": "markdown",
   "id": "e03b802e",
   "metadata": {},
   "source": [
    "### 5)"
   ]
  },
  {
   "cell_type": "code",
   "execution_count": 20,
   "id": "c8a9e8e1",
   "metadata": {},
   "outputs": [
    {
     "name": "stdout",
     "output_type": "stream",
     "text": [
      "enter the value of x: 2\n",
      "enter the value of y: 5\n",
      "Before swap: \n",
      " x: 2  y: 5\n",
      "After the swap: \n",
      "x: 5 y: 2\n"
     ]
    }
   ],
   "source": [
    "x = int(input(\"enter the value of x: \"))\n",
    "y = int(input(\"enter the value of y: \"))\n",
    " \n",
    "print (\"Before swap: \")\n",
    "print(\" x:\", x, \" y:\", y)\n",
    " \n",
    "# code to swap\n",
    "x = x + y \n",
    "y = x - y \n",
    "x = x - y \n",
    " \n",
    "print (\"After the swap: \")\n",
    "print( \"x:\", x, \"y:\", y)"
   ]
  },
  {
   "cell_type": "code",
   "execution_count": null,
   "id": "922dddf4",
   "metadata": {},
   "outputs": [],
   "source": []
  }
 ],
 "metadata": {
  "kernelspec": {
   "display_name": "Python 3 (ipykernel)",
   "language": "python",
   "name": "python3"
  },
  "language_info": {
   "codemirror_mode": {
    "name": "ipython",
    "version": 3
   },
   "file_extension": ".py",
   "mimetype": "text/x-python",
   "name": "python",
   "nbconvert_exporter": "python",
   "pygments_lexer": "ipython3",
   "version": "3.9.12"
  }
 },
 "nbformat": 4,
 "nbformat_minor": 5
}
