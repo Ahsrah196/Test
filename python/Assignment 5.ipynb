{
 "cells": [
  {
   "cell_type": "markdown",
   "id": "3a5a69c2",
   "metadata": {},
   "source": [
    "# Assignment 5 "
   ]
  },
  {
   "cell_type": "markdown",
   "id": "164feb58",
   "metadata": {},
   "source": [
    "### 1. What does an empty dictionary&#39;s code look like?"
   ]
  },
  {
   "cell_type": "code",
   "execution_count": 1,
   "id": "313379a6",
   "metadata": {},
   "outputs": [
    {
     "name": "stdout",
     "output_type": "stream",
     "text": [
      "<class 'dict'>\n"
     ]
    }
   ],
   "source": [
    "d={\n",
    "    \n",
    "}\n",
    "print(type(d))"
   ]
  },
  {
   "cell_type": "markdown",
   "id": "833797de",
   "metadata": {},
   "source": [
    "### 2. What is the value of a dictionary value with the key &#39;foo&#39; and the value 42?"
   ]
  },
  {
   "cell_type": "code",
   "execution_count": 2,
   "id": "a837e667",
   "metadata": {},
   "outputs": [
    {
     "name": "stdout",
     "output_type": "stream",
     "text": [
      "{'foo': 42}\n"
     ]
    }
   ],
   "source": [
    "d={'foo':42}\n",
    "\n",
    "print(d)"
   ]
  },
  {
   "cell_type": "markdown",
   "id": "9db3794f",
   "metadata": {},
   "source": [
    "### 3. What is the most significant distinction between a dictionary and a list?"
   ]
  },
  {
   "cell_type": "markdown",
   "id": "aa7ff5f2",
   "metadata": {},
   "source": [
    "dictionary representation -{}\n",
    "list representation-[]\n",
    "\n",
    "dictionary is unordered, stores values in form of key-value pairs where key can be string,number and value can be list,dictionary,tuple. indexed by using keys\n",
    "\n",
    "list is ordered,indexable."
   ]
  },
  {
   "cell_type": "markdown",
   "id": "cf1d77c1",
   "metadata": {},
   "source": [
    "### 4. What happens if you try to access spam[&#39;foo&#39;] if spam is {&#39;bar&#39;: 100}?"
   ]
  },
  {
   "cell_type": "markdown",
   "id": "efb20415",
   "metadata": {},
   "source": [
    "keyError"
   ]
  },
  {
   "cell_type": "markdown",
   "id": "653b2aaa",
   "metadata": {},
   "source": [
    "### 5. If a dictionary is stored in spam, what is the difference between the expressions &#39;cat&#39; in spam and\n",
    "### &#39;cat&#39; in spam.keys()?"
   ]
  },
  {
   "cell_type": "markdown",
   "id": "35327f90",
   "metadata": {},
   "source": [
    "NO difference . The operator checks whether a value exits as a key in the dictionary or not"
   ]
  },
  {
   "cell_type": "markdown",
   "id": "490e4faf",
   "metadata": {},
   "source": [
    "### 6. If a dictionary is stored in spam, what is the difference between the expressions &#39;cat&#39; in spam and\n",
    "### &#39;cat&#39; in spam.values()?"
   ]
  },
  {
   "cell_type": "markdown",
   "id": "3c7abba5",
   "metadata": {},
   "source": [
    "It checks for value \"cat\" in dictionary and returns False as it is not present"
   ]
  },
  {
   "cell_type": "markdown",
   "id": "7b537daf",
   "metadata": {},
   "source": [
    "### 7. What is a shortcut for the following code?\n",
    "### if &#39;color&#39; not in spam:\n",
    "### spam[&#39;color&#39;] = &#39;black&#39;"
   ]
  },
  {
   "cell_type": "markdown",
   "id": "06c9ecee",
   "metadata": {},
   "source": [
    "spam.setdefault('color','black')"
   ]
  },
  {
   "cell_type": "markdown",
   "id": "3f5d13f5",
   "metadata": {},
   "source": [
    "### 8. How do you &quot;pretty print&quot; dictionary values using which module and function?"
   ]
  },
  {
   "cell_type": "markdown",
   "id": "c3cad0c8",
   "metadata": {},
   "source": [
    "Using -\n",
    "1) pprint module and pprint function\n",
    "2) using json module and dumps() function\n",
    "3) using yaml module and dumps() function"
   ]
  },
  {
   "cell_type": "code",
   "execution_count": 60,
   "id": "2ce60b3f",
   "metadata": {},
   "outputs": [],
   "source": [
    "f= [\n",
    "  {'Name': 'jake', 'Age': '53', 'Country': 'USA'},\n",
    "  {'Name': 'Jose', 'Age': '34', 'Country': 'UK'},\n",
    "  {'Name': 'Anie', 'Age': '33', 'Country': 'france'},\n",
    "  {'Name': 'yong', 'Age': '46', 'Country': 'china'}\n",
    "    ]"
   ]
  },
  {
   "cell_type": "code",
   "execution_count": 61,
   "id": "8ad8d8fb",
   "metadata": {},
   "outputs": [
    {
     "name": "stdout",
     "output_type": "stream",
     "text": [
      "[{'Age': '53', 'Country': 'USA', 'Name': 'jake'},\n",
      " {'Age': '34', 'Country': 'UK', 'Name': 'Jose'},\n",
      " {'Age': '33', 'Country': 'france', 'Name': 'Anie'},\n",
      " {'Age': '46', 'Country': 'china', 'Name': 'yong'}]\n"
     ]
    }
   ],
   "source": [
    "import pprint\n",
    "pprint.pprint(f)"
   ]
  },
  {
   "cell_type": "code",
   "execution_count": 62,
   "id": "0049e6f9",
   "metadata": {},
   "outputs": [
    {
     "name": "stdout",
     "output_type": "stream",
     "text": [
      "[{\"Name\": \"jake\", \"Age\": \"53\", \"Country\": \"USA\"}, {\"Name\": \"Jose\", \"Age\": \"34\", \"Country\": \"UK\"}, {\"Name\": \"Anie\", \"Age\": \"33\", \"Country\": \"france\"}, {\"Name\": \"yong\", \"Age\": \"46\", \"Country\": \"china\"}]\n"
     ]
    }
   ],
   "source": [
    "import json\n",
    "print(json.dumps(f))"
   ]
  },
  {
   "cell_type": "code",
   "execution_count": null,
   "id": "dc00dc07",
   "metadata": {},
   "outputs": [],
   "source": []
  },
  {
   "cell_type": "code",
   "execution_count": null,
   "id": "a3be3fa8",
   "metadata": {},
   "outputs": [],
   "source": []
  }
 ],
 "metadata": {
  "kernelspec": {
   "display_name": "Python 3 (ipykernel)",
   "language": "python",
   "name": "python3"
  },
  "language_info": {
   "codemirror_mode": {
    "name": "ipython",
    "version": 3
   },
   "file_extension": ".py",
   "mimetype": "text/x-python",
   "name": "python",
   "nbconvert_exporter": "python",
   "pygments_lexer": "ipython3",
   "version": "3.9.12"
  }
 },
 "nbformat": 4,
 "nbformat_minor": 5
}
