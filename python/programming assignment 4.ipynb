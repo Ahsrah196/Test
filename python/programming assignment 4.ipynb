{
 "cells": [
  {
   "cell_type": "markdown",
   "id": "eb2c630c",
   "metadata": {},
   "source": [
    "# Programming Assignment 4"
   ]
  },
  {
   "cell_type": "markdown",
   "id": "0f4af2ce",
   "metadata": {},
   "source": [
    "### 1. Write a Python Program to Find the Factorial of a Number?"
   ]
  },
  {
   "cell_type": "code",
   "execution_count": 12,
   "id": "ccfb3f94",
   "metadata": {},
   "outputs": [
    {
     "name": "stdout",
     "output_type": "stream",
     "text": [
      "Enter your number: 5\n"
     ]
    },
    {
     "data": {
      "text/plain": [
       "120"
      ]
     },
     "execution_count": 12,
     "metadata": {},
     "output_type": "execute_result"
    }
   ],
   "source": [
    "def Factorial(x):\n",
    "    if(x==0 or x==1):\n",
    "        return 1\n",
    "    fact= Factorial(x-1)\n",
    "    return x*fact\n",
    "\n",
    "\n",
    "number= int(input(\"Enter your number: \"))\n",
    "Factorial(number)\n",
    "    "
   ]
  },
  {
   "cell_type": "markdown",
   "id": "d8802d12",
   "metadata": {},
   "source": [
    "### 2. Write a Python Program to Display the multiplication Table?"
   ]
  },
  {
   "cell_type": "code",
   "execution_count": 30,
   "id": "80bf299c",
   "metadata": {},
   "outputs": [
    {
     "name": "stdout",
     "output_type": "stream",
     "text": [
      "enter your number: 6\n",
      "enter till which value: 10\n",
      "6 x 1  = 6\n",
      "6 x 2  = 12\n",
      "6 x 3  = 18\n",
      "6 x 4  = 24\n",
      "6 x 5  = 30\n",
      "6 x 6  = 36\n",
      "6 x 7  = 42\n",
      "6 x 8  = 48\n",
      "6 x 9  = 54\n",
      "6 x 10  = 60\n"
     ]
    }
   ],
   "source": [
    "def display(number,value):\n",
    "    for i in range(1,value+1):\n",
    "        print(f'{number} x {i}  = {number*i}')\n",
    "        \n",
    "        \n",
    "    \n",
    "num = int(input(\"enter your number: \"))\n",
    "value = int(input(\"enter till which value: \"))\n",
    "display(num,value)"
   ]
  },
  {
   "cell_type": "markdown",
   "id": "142b6614",
   "metadata": {},
   "source": [
    "### 3. Write a Python Program to Print the Fibonacci sequence?"
   ]
  },
  {
   "cell_type": "code",
   "execution_count": 36,
   "id": "43eca282",
   "metadata": {},
   "outputs": [
    {
     "name": "stdout",
     "output_type": "stream",
     "text": [
      "Enter till which term: 3\n"
     ]
    },
    {
     "data": {
      "text/plain": [
       "3"
      ]
     },
     "execution_count": 36,
     "metadata": {},
     "output_type": "execute_result"
    }
   ],
   "source": [
    "def fibonacci(x):\n",
    "    a=0\n",
    "    b=1\n",
    "    for i in range(x):\n",
    "        a,b=b,a+b\n",
    "        \n",
    "    return(b)\n",
    "    \n",
    "num= int(input(\"Enter till which term: \"))\n",
    "fibonacci(num)"
   ]
  },
  {
   "cell_type": "markdown",
   "id": "2dcd529b",
   "metadata": {},
   "source": [
    "### 4. Write a Python Program to Check Armstrong Number?"
   ]
  },
  {
   "cell_type": "code",
   "execution_count": 11,
   "id": "0742793c",
   "metadata": {},
   "outputs": [
    {
     "name": "stdout",
     "output_type": "stream",
     "text": [
      "Enter the number: 8208\n",
      "Armstrong number\n"
     ]
    }
   ],
   "source": [
    "def Armstrong(c,y):\n",
    "    sum=0\n",
    "    a=str(c)\n",
    "    for i  in range(len(a)):\n",
    "        sum=sum+pow(int(a[i]),y)\n",
    "        \n",
    "    if(c==sum):\n",
    "        print(\"Armstrong number\")\n",
    "            \n",
    "    else:\n",
    "        print(\"Not armstrong number\")\n",
    "            \n",
    "x = input(\"Enter the number: \")\n",
    "c=int(x)\n",
    "y= len(x)\n",
    "Armstrong(c,y)"
   ]
  },
  {
   "cell_type": "markdown",
   "id": "93d7ca64",
   "metadata": {},
   "source": [
    "### 5. Write a Python Program to Find Armstrong Number in an Interval?"
   ]
  },
  {
   "cell_type": "code",
   "execution_count": 25,
   "id": "9cd0c180",
   "metadata": {},
   "outputs": [
    {
     "name": "stdout",
     "output_type": "stream",
     "text": [
      "Enter the Start of the Interval: 0\n",
      "Enter the End of the Interval: 1000\n",
      "The Armstrong numbers between 0 and 1000 are [0, 1, 153, 370, 371, 407]\n"
     ]
    }
   ],
   "source": [
    "def checkArmstrongNumber(num, values):\n",
    "    sum = 0\n",
    "    for i in range(len(num)):\n",
    "        sum = sum + pow(int(num[i]),3)\n",
    "    if sum == int(num):\n",
    "        values.append(int(num))\n",
    "\n",
    "start_number = int(input('Enter the Start of the Interval: '))\n",
    "end_number = int(input('Enter the End of the Interval: '))\n",
    "values = []\n",
    "\n",
    "if start_number > end_number:\n",
    "    print(\"Start Interval Cannot be Greater than End Interval\")\n",
    "else:\n",
    "    for number in range(start_number,end_number+1):\n",
    "        checkArmstrongNumber(str(number),values)\n",
    "    print(f'The Armstrong numbers between {start_number} and {end_number} are {values}')"
   ]
  },
  {
   "cell_type": "markdown",
   "id": "a51937cd",
   "metadata": {},
   "source": [
    "### 6. Write a Python Program to Find the Sum of Natural Numbers?"
   ]
  },
  {
   "cell_type": "code",
   "execution_count": 20,
   "id": "b5e99221",
   "metadata": {},
   "outputs": [
    {
     "name": "stdout",
     "output_type": "stream",
     "text": [
      "enter the nth number: 40\n",
      "The sum of first 40 numbers is 820.0\n"
     ]
    }
   ],
   "source": [
    "def Sum(n):\n",
    "    \n",
    "     return (n*(n+1))/2\n",
    "    \n",
    "\n",
    "a=int(input(\"enter the nth number: \"))\n",
    "b=Sum(a)\n",
    "print(f'The sum of first {a} numbers is {b}' )"
   ]
  },
  {
   "cell_type": "code",
   "execution_count": null,
   "id": "8a20085b",
   "metadata": {},
   "outputs": [],
   "source": []
  }
 ],
 "metadata": {
  "kernelspec": {
   "display_name": "Python 3 (ipykernel)",
   "language": "python",
   "name": "python3"
  },
  "language_info": {
   "codemirror_mode": {
    "name": "ipython",
    "version": 3
   },
   "file_extension": ".py",
   "mimetype": "text/x-python",
   "name": "python",
   "nbconvert_exporter": "python",
   "pygments_lexer": "ipython3",
   "version": "3.9.12"
  }
 },
 "nbformat": 4,
 "nbformat_minor": 5
}
