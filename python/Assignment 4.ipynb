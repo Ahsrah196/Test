{
 "cells": [
  {
   "cell_type": "markdown",
   "id": "72163127",
   "metadata": {},
   "source": [
    "# Assignment 4"
   ]
  },
  {
   "cell_type": "markdown",
   "id": "ff945dfa",
   "metadata": {},
   "source": [
    "### 1.What exactly is [ ]?\n"
   ]
  },
  {
   "cell_type": "markdown",
   "id": "e3070ad1",
   "metadata": {},
   "source": [
    "The empty list represented by [] is a list that contains no items"
   ]
  },
  {
   "cell_type": "markdown",
   "id": "75db7137",
   "metadata": {},
   "source": [
    "### 2. In a list of values stored in a variable called spam, how would you assign the value &#39;hello&#39; as the\n",
    "### third value? (Assume [2, 4, 6, 8, 10] are in spam.)"
   ]
  },
  {
   "cell_type": "code",
   "execution_count": 2,
   "id": "7a658d9d",
   "metadata": {},
   "outputs": [
    {
     "name": "stdout",
     "output_type": "stream",
     "text": [
      "[2, 4, 6, 8, 10]\n",
      "[2, 4, 'hello', 8, 10]\n"
     ]
    }
   ],
   "source": [
    "spam=[2,4,6,8,10]\n",
    "print(spam)\n",
    "spam[2]='hello' \n",
    "print(spam)"
   ]
  },
  {
   "cell_type": "markdown",
   "id": "cac8418d",
   "metadata": {},
   "source": [
    "## Let's pretend the spam includes the list ['a','b','c',d'] for the next three queries."
   ]
  },
  {
   "cell_type": "code",
   "execution_count": 4,
   "id": "8f02ab14",
   "metadata": {},
   "outputs": [],
   "source": [
    "spam= [\"a\",\"b\",\"c\",\"d\"]"
   ]
  },
  {
   "cell_type": "markdown",
   "id": "48cf7446",
   "metadata": {},
   "source": [
    "### 3. What is the value of spam[int(int(&#39;3&#39; * 2) / 11)]?"
   ]
  },
  {
   "cell_type": "markdown",
   "id": "fe544c58",
   "metadata": {},
   "source": [
    "None as \"3\" is string and  cant be multiplied with 2"
   ]
  },
  {
   "cell_type": "markdown",
   "id": "bb082316",
   "metadata": {},
   "source": [
    "###  4. What is the value of spam[-1]?"
   ]
  },
  {
   "cell_type": "code",
   "execution_count": 5,
   "id": "52fb0841",
   "metadata": {},
   "outputs": [
    {
     "data": {
      "text/plain": [
       "'d'"
      ]
     },
     "execution_count": 5,
     "metadata": {},
     "output_type": "execute_result"
    }
   ],
   "source": [
    "spam[-1]"
   ]
  },
  {
   "cell_type": "markdown",
   "id": "48a09a0f",
   "metadata": {},
   "source": [
    "### 5. What is the value of spam[:2]?"
   ]
  },
  {
   "cell_type": "code",
   "execution_count": 6,
   "id": "2423e3a4",
   "metadata": {},
   "outputs": [
    {
     "data": {
      "text/plain": [
       "['a', 'b']"
      ]
     },
     "execution_count": 6,
     "metadata": {},
     "output_type": "execute_result"
    }
   ],
   "source": [
    "spam[:2]"
   ]
  },
  {
   "cell_type": "markdown",
   "id": "1c3bb261",
   "metadata": {},
   "source": [
    "## Let&#39;s pretend bacon has the list [3.14, &#39;cat,&#39; 11, &#39;cat,&#39; True] for the next three questions."
   ]
  },
  {
   "cell_type": "code",
   "execution_count": 9,
   "id": "a3884016",
   "metadata": {},
   "outputs": [],
   "source": [
    "bacon=[3.14,'cat',11,'cat',True]"
   ]
  },
  {
   "cell_type": "markdown",
   "id": "d0b55d86",
   "metadata": {},
   "source": [
    "### 6. What is the value of bacon.index(&#39;cat&#39;)?"
   ]
  },
  {
   "cell_type": "code",
   "execution_count": 10,
   "id": "7ed2d724",
   "metadata": {},
   "outputs": [
    {
     "data": {
      "text/plain": [
       "1"
      ]
     },
     "execution_count": 10,
     "metadata": {},
     "output_type": "execute_result"
    }
   ],
   "source": [
    "bacon.index('cat')"
   ]
  },
  {
   "cell_type": "markdown",
   "id": "aa7452b0",
   "metadata": {},
   "source": [
    "## 7. How does bacon.append(99) change the look of the list value in bacon?"
   ]
  },
  {
   "cell_type": "code",
   "execution_count": 19,
   "id": "513f3c97",
   "metadata": {},
   "outputs": [
    {
     "name": "stdout",
     "output_type": "stream",
     "text": [
      "[3.14, 'cat', 11, 'cat', True, 99]\n"
     ]
    }
   ],
   "source": [
    "bacon.append(99)\n",
    "print(bacon)"
   ]
  },
  {
   "cell_type": "markdown",
   "id": "8961f5e7",
   "metadata": {},
   "source": [
    "### 8. How does bacon.remove(&#39;cat&#39;) change the look of the list in bacon?"
   ]
  },
  {
   "cell_type": "code",
   "execution_count": 20,
   "id": "7c3fbcd7",
   "metadata": {},
   "outputs": [
    {
     "name": "stdout",
     "output_type": "stream",
     "text": [
      "[3.14, 11, 'cat', True, 99]\n"
     ]
    }
   ],
   "source": [
    "bacon.remove('cat')\n",
    "print(bacon)"
   ]
  },
  {
   "cell_type": "markdown",
   "id": "2dea73cc",
   "metadata": {},
   "source": [
    "It removed the first appearance of CAT from the list"
   ]
  },
  {
   "cell_type": "markdown",
   "id": "d6f8524f",
   "metadata": {},
   "source": [
    "### 9. What are the list concatenation and list replication operators?"
   ]
  },
  {
   "cell_type": "code",
   "execution_count": 23,
   "id": "f27f52a4",
   "metadata": {},
   "outputs": [],
   "source": [
    "l=['HARSHA','kash','hi','hgs']\n",
    "l1=['gfd','fdf','dsff']"
   ]
  },
  {
   "cell_type": "code",
   "execution_count": 25,
   "id": "545601a8",
   "metadata": {},
   "outputs": [
    {
     "name": "stdout",
     "output_type": "stream",
     "text": [
      "['HARSHA', 'kash', 'hi', 'hgs', 'gfd', 'fdf', 'dsff']\n",
      "['HARSHA', 'kash', 'hi', 'hgs', 'HARSHA', 'kash', 'hi', 'hgs', 'HARSHA', 'kash', 'hi', 'hgs']\n"
     ]
    }
   ],
   "source": [
    "print(l+l1)\n",
    "print(l*3)"
   ]
  },
  {
   "cell_type": "markdown",
   "id": "78ea5f4f",
   "metadata": {},
   "source": [
    "### 10. What is difference between the list methods append() and insert()?"
   ]
  },
  {
   "cell_type": "markdown",
   "id": "de1d61fa",
   "metadata": {},
   "source": [
    "append() - adds the element at the last index of list\n",
    "\n",
    "insert()- used to add element at any desired index"
   ]
  },
  {
   "cell_type": "code",
   "execution_count": 26,
   "id": "c7973354",
   "metadata": {},
   "outputs": [
    {
     "name": "stdout",
     "output_type": "stream",
     "text": [
      "['ornage', 'banana', 'apple', 'lemon', 'berry']\n",
      "['ornage', 'banana', 'melon', 'apple', 'lemon', 'berry']\n"
     ]
    }
   ],
   "source": [
    "fruits=['ornage','banana','apple','lemon']\n",
    "\n",
    "fruits.append('berry')\n",
    "print(fruits)\n",
    "\n",
    "fruits.insert(2,'melon')\n",
    "print(fruits)"
   ]
  },
  {
   "cell_type": "markdown",
   "id": "2651f762",
   "metadata": {},
   "source": [
    "### 11. What are the two methods for removing items from a list?"
   ]
  },
  {
   "cell_type": "markdown",
   "id": "8750ca10",
   "metadata": {},
   "source": [
    "Two methods are \n",
    "1) pop\n",
    "2) remove"
   ]
  },
  {
   "cell_type": "code",
   "execution_count": 27,
   "id": "cf918e60",
   "metadata": {},
   "outputs": [
    {
     "name": "stdout",
     "output_type": "stream",
     "text": [
      "['ornage', 'banana', 'melon', 'apple', 'lemon']\n"
     ]
    }
   ],
   "source": [
    "fruits.pop()\n",
    "print(fruits)"
   ]
  },
  {
   "cell_type": "code",
   "execution_count": 32,
   "id": "ea76eaff",
   "metadata": {},
   "outputs": [
    {
     "name": "stdout",
     "output_type": "stream",
     "text": [
      "['ornage', 'apple', 'lemon']\n"
     ]
    }
   ],
   "source": [
    "fruits.remove(\"banana\")\n",
    "print(fruits)"
   ]
  },
  {
   "cell_type": "markdown",
   "id": "b8c8109e",
   "metadata": {},
   "source": [
    "### 12. Describe how list values and string values are identical."
   ]
  },
  {
   "cell_type": "markdown",
   "id": "2be58b8c",
   "metadata": {},
   "source": [
    "Both can be passed to len() function to find thier length, have indexes and slicing operations, be used in for,while loops, be concatenated or replicated."
   ]
  },
  {
   "cell_type": "markdown",
   "id": "8de64c32",
   "metadata": {},
   "source": [
    "### 13. What&#39;s the difference between tuples and lists?"
   ]
  },
  {
   "cell_type": "markdown",
   "id": "3e50c866",
   "metadata": {},
   "source": [
    "Lists are Mutable, Indexable and Slicing can be done they can added, removed, or update values. Tuples are Immutable but Indexable and Slisable. the tuple values cannot be updated. \n",
    "Tuples are represented using parentheses () and lists use the square brackets, []."
   ]
  },
  {
   "cell_type": "markdown",
   "id": "0fc59de9",
   "metadata": {},
   "source": [
    "### 14. How do you type a tuple value that only contains the integer 42?"
   ]
  },
  {
   "cell_type": "code",
   "execution_count": 35,
   "id": "8c7d6e08",
   "metadata": {},
   "outputs": [
    {
     "name": "stdout",
     "output_type": "stream",
     "text": [
      "(42,)\n",
      "<class 'tuple'>\n"
     ]
    }
   ],
   "source": [
    "t=(42,)\n",
    "print(t)\n",
    "print(type(t))"
   ]
  },
  {
   "cell_type": "markdown",
   "id": "ced6c752",
   "metadata": {},
   "source": [
    "### 15. How do you get a list value&#39;s tuple form? How do you get a tuple value&#39;s list form?"
   ]
  },
  {
   "cell_type": "markdown",
   "id": "c018f9bf",
   "metadata": {},
   "source": [
    "tuple() and list() functions are used to convert one datatype to other datatype"
   ]
  },
  {
   "cell_type": "markdown",
   "id": "68c2e79d",
   "metadata": {},
   "source": [
    "### 16. Variables that &quot;contain&quot; list values are not necessarily lists themselves. Instead, what do they\n",
    "### contain?"
   ]
  },
  {
   "cell_type": "markdown",
   "id": "2082970c",
   "metadata": {},
   "source": [
    "they contain references to list values"
   ]
  },
  {
   "cell_type": "markdown",
   "id": "18524519",
   "metadata": {},
   "source": [
    "###  17. How do you distinguish between copy.copy() and copy.deepcopy()?"
   ]
  },
  {
   "cell_type": "markdown",
   "id": "bcc7b0e6",
   "metadata": {},
   "source": [
    "copy.copy()- makes a shallow copy \n",
    "copy.deepcopy()- makes deep copy of the values i.e copes the values in an another new location "
   ]
  }
 ],
 "metadata": {
  "kernelspec": {
   "display_name": "Python 3 (ipykernel)",
   "language": "python",
   "name": "python3"
  },
  "language_info": {
   "codemirror_mode": {
    "name": "ipython",
    "version": 3
   },
   "file_extension": ".py",
   "mimetype": "text/x-python",
   "name": "python",
   "nbconvert_exporter": "python",
   "pygments_lexer": "ipython3",
   "version": "3.9.12"
  }
 },
 "nbformat": 4,
 "nbformat_minor": 5
}
