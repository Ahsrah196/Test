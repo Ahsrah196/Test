{
 "cells": [
  {
   "cell_type": "markdown",
   "id": "36fe227f",
   "metadata": {},
   "source": [
    "# Programming Assignment 5"
   ]
  },
  {
   "cell_type": "markdown",
   "id": "f6bfd736",
   "metadata": {},
   "source": [
    "###  1. Write a Python Program to Find LCM?"
   ]
  },
  {
   "cell_type": "code",
   "execution_count": 8,
   "id": "50d95eda",
   "metadata": {},
   "outputs": [
    {
     "name": "stdout",
     "output_type": "stream",
     "text": [
      "enter 1st number: 24\n",
      "enter 2nd number36\n",
      "LCM of numbers is 72\n"
     ]
    }
   ],
   "source": [
    "def Lcm(num1,num2):\n",
    "    if num1>num2 :\n",
    "        grater=num1\n",
    "    else: \n",
    "        grater=num2\n",
    "    value= grater   \n",
    "    while(True):\n",
    "        if(grater%num1==0 and grater%num2==0):\n",
    "            print(f'LCM of numbers is {grater}')\n",
    "            break\n",
    "        else:\n",
    "            grater=grater+value\n",
    "\n",
    "                \n",
    "num1=int(input(\"enter 1st number: \"))\n",
    "num2=int(input(\"enter 2nd number\"))\n",
    "\n",
    "Lcm(num1,num2)\n",
    "    "
   ]
  },
  {
   "cell_type": "markdown",
   "id": "45036581",
   "metadata": {},
   "source": [
    "### 2. Write a Python Program to Find HCF?"
   ]
  },
  {
   "cell_type": "code",
   "execution_count": 23,
   "id": "d9d8b202",
   "metadata": {},
   "outputs": [
    {
     "name": "stdout",
     "output_type": "stream",
     "text": [
      "enter 1st number: 24\n",
      "enter 2nd number: 60\n",
      "Hcf of numbers is 12\n"
     ]
    }
   ],
   "source": [
    "def Hcf(num1,num2):\n",
    "    l=[]\n",
    "    if (num2>num1):\n",
    "        mn=num1\n",
    "    else: \n",
    "        mn = num2 \n",
    "        \n",
    "    \n",
    "    for i in range (1,mn+1):\n",
    "        if( num1%i==0 and num2%i ==0):\n",
    "            l.append(i)\n",
    "    h=max(l)\n",
    "    print(f'Hcf of numbers is {h}')\n",
    "            \n",
    "x=int(input(\"enter 1st number: \"))\n",
    "y= int(input(\"enter 2nd number: \"))\n",
    "\n",
    "Hcf(x,y)\n",
    "    "
   ]
  },
  {
   "cell_type": "markdown",
   "id": "fe735c7f",
   "metadata": {},
   "source": [
    "### 3. Write a Python Program to Convert Decimal to Binary, Octal and Hexadecimal?"
   ]
  },
  {
   "cell_type": "code",
   "execution_count": 24,
   "id": "352429c6",
   "metadata": {},
   "outputs": [
    {
     "name": "stdout",
     "output_type": "stream",
     "text": [
      "enter your number: 332\n",
      "0b101001100 in binary.\n",
      "0o514 in octal.\n",
      "0x14c in hexadecimal.\n"
     ]
    }
   ],
   "source": [
    "def Decimal_to_BOH():\n",
    "    decimal=int(input(\"enter your number: \"))\n",
    "    print(bin(decimal), \"in binary.\")\n",
    "    print(oct(decimal), \"in octal.\")\n",
    "    print(hex(decimal), \"in hexadecimal.\")\n",
    "    \n",
    "Decimal_to_BOH()"
   ]
  },
  {
   "cell_type": "markdown",
   "id": "1321d5d7",
   "metadata": {},
   "source": [
    "### 4. Write a Python Program To Find ASCII value of a character?"
   ]
  },
  {
   "cell_type": "code",
   "execution_count": 29,
   "id": "efde96a3",
   "metadata": {},
   "outputs": [
    {
     "name": "stdout",
     "output_type": "stream",
     "text": [
      "enter the character: f\n",
      "Ascii value of character is : 102\n",
      "enter the character: d\n",
      "Ascii value of character is : 100\n"
     ]
    }
   ],
   "source": [
    "def Ascii_values():\n",
    "    character=input(\"enter the character: \")\n",
    "    print(\"Ascii value of character is :\",ord(character))\n",
    "    \n",
    "Ascii_values()\n",
    "Ascii_values()\n",
    "    "
   ]
  },
  {
   "cell_type": "markdown",
   "id": "51f1c481",
   "metadata": {},
   "source": [
    "### 5. Write a Python Program to Make a Simple Calculator with 4 basic mathematical operations?"
   ]
  },
  {
   "cell_type": "code",
   "execution_count": null,
   "id": "fad9ddcf",
   "metadata": {},
   "outputs": [
    {
     "name": "stdout",
     "output_type": "stream",
     "text": [
      "Select operation.\n",
      "1.Add\n",
      "2.Subtract\n",
      "3.Multiply\n",
      "4.Divide\n",
      "\n",
      "Enter your choice(1/2/3/4): 3\n",
      "Enter 1st  number: 11\n",
      "Enter 2nd number: 22\n",
      "11.0 * 22.0 = 242.0\n"
     ]
    }
   ],
   "source": [
    "def add(num1,num2):\n",
    "    return num1+num2\n",
    "\n",
    "def subtract(num1,num2):\n",
    "    return num1-num2\n",
    "\n",
    "def multiply(num1,num2):\n",
    "    return num1*num2\n",
    "\n",
    "def divide(num1,num2):\n",
    "    return num1/num2\n",
    "\n",
    "\n",
    "\n",
    "print(\"Select operation.\")\n",
    "print(\"1.Add\")\n",
    "print(\"2.Subtract\")\n",
    "print(\"3.Multiply\")\n",
    "print(\"4.Divide\\n\")\n",
    "\n",
    "while True:\n",
    "    \n",
    "    choice = input(\"Enter your choice(1/2/3/4): \")\n",
    "\n",
    "    \n",
    "    if choice in ('1', '2', '3', '4'):\n",
    "        num1 = float(input(\"Enter 1st  number: \"))\n",
    "        num2 = float(input(\"Enter 2nd number: \"))\n",
    "\n",
    "        if choice == '1':\n",
    "            print(num1, \"+\", num2, \"=\", add(num1, num2))\n",
    "\n",
    "        elif choice == '2':\n",
    "            print(num1, \"-\", num2, \"=\", subtract(num1, num2))\n",
    "\n",
    "        elif choice == '3':\n",
    "            print(num1, \"*\", num2, \"=\", multiply(num1, num2))\n",
    "\n",
    "        elif choice == '4':\n",
    "            print(num1, \"/\", num2, \"=\", divide(num1, num2))\n",
    "    \n",
    "    "
   ]
  },
  {
   "cell_type": "code",
   "execution_count": null,
   "id": "63903083",
   "metadata": {},
   "outputs": [],
   "source": []
  }
 ],
 "metadata": {
  "kernelspec": {
   "display_name": "Python 3 (ipykernel)",
   "language": "python",
   "name": "python3"
  },
  "language_info": {
   "codemirror_mode": {
    "name": "ipython",
    "version": 3
   },
   "file_extension": ".py",
   "mimetype": "text/x-python",
   "name": "python",
   "nbconvert_exporter": "python",
   "pygments_lexer": "ipython3",
   "version": "3.9.12"
  }
 },
 "nbformat": 4,
 "nbformat_minor": 5
}
