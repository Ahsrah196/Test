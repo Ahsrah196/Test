{
 "cells": [
  {
   "cell_type": "markdown",
   "id": "1fb36b83",
   "metadata": {},
   "source": [
    "# Assignment 9"
   ]
  },
  {
   "cell_type": "markdown",
   "id": "6950cfc8",
   "metadata": {},
   "source": [
    "### 1. To what does a relative path refer?"
   ]
  },
  {
   "cell_type": "markdown",
   "id": "ce854e05",
   "metadata": {},
   "source": [
    "Relative path is the path to some file with respect to its current working directory (PWD).\n",
    "\n",
    "Example: if Absolute path to a file called ineuron.txt is: C:/users/admin/docs/ineuron.txt If my PWD is C:/users/admin/ , then the relative path to ineuron.txt would be: docs/ineuron.txt\n",
    "Note: PWD + relative path = absolute path"
   ]
  },
  {
   "cell_type": "markdown",
   "id": "865c61fa",
   "metadata": {},
   "source": [
    "### 2. What does an absolute path start with your operating system?"
   ]
  },
  {
   "cell_type": "markdown",
   "id": "5c20e62f",
   "metadata": {},
   "source": [
    "In Linux based systems the absolute path starts with /. and  in Windows based systems absolute path starts with C:"
   ]
  },
  {
   "cell_type": "markdown",
   "id": "c082a557",
   "metadata": {},
   "source": [
    "### 3. What do the functions os.getcwd() and os.chdir() do?"
   ]
  },
  {
   "cell_type": "markdown",
   "id": "232e255c",
   "metadata": {},
   "source": [
    "getcwd() : CWD means Current Working Directory.It allows you to see what our current working directory is. \n",
    "\n",
    "chdir(\"path-to-dir\") : to Change Directory,it allows you to set the current working directory to a path of our choice."
   ]
  },
  {
   "cell_type": "markdown",
   "id": "1009ed4e",
   "metadata": {},
   "source": [
    "### 4. What are the . and .. folders?"
   ]
  },
  {
   "cell_type": "markdown",
   "id": "b3cc611e",
   "metadata": {},
   "source": [
    ". Represents the Current Directory and .. Represents the Parent Directory of the Current Directory"
   ]
  },
  {
   "cell_type": "markdown",
   "id": "6e4be2b9",
   "metadata": {},
   "source": [
    "in Ahsrah196/Test/blob/main/python/Assignment204\n",
    "\n",
    "current directory= Assignment204\n",
    "parent directory = Ahsrah196/Test/blob/main/python"
   ]
  },
  {
   "cell_type": "markdown",
   "id": "eafa1e32",
   "metadata": {},
   "source": [
    "### 5. In C:\\bacon\\eggs\\spam.txt, which part is the dir name, and which part is the base name?"
   ]
  },
  {
   "cell_type": "code",
   "execution_count": 1,
   "id": "2d29ee46",
   "metadata": {},
   "outputs": [
    {
     "name": "stdout",
     "output_type": "stream",
     "text": [
      "C:\\bacon\\eggs\n",
      "spam.txt\n"
     ]
    }
   ],
   "source": [
    "import os\n",
    "path = r'C:\\bacon\\eggs\\spam.txt'\n",
    "print(os.path.dirname(path))\n",
    "print(os.path.basename(path))"
   ]
  },
  {
   "cell_type": "markdown",
   "id": "47dddd38",
   "metadata": {},
   "source": [
    "### 6. What are the three “mode” arguments that can be passed to the open() function?"
   ]
  },
  {
   "cell_type": "markdown",
   "id": "dd6a09fa",
   "metadata": {},
   "source": [
    "read, write, append mods "
   ]
  },
  {
   "cell_type": "markdown",
   "id": "8bc6d340",
   "metadata": {},
   "source": [
    "### 7.What happens if an existing file is opened in write mode ?"
   ]
  },
  {
   "cell_type": "markdown",
   "id": "82c898c2",
   "metadata": {},
   "source": [
    "W+ =we will be create a file and write information in it\n",
    "W  = we will be able to fetch already present file and write changes into it"
   ]
  },
  {
   "cell_type": "markdown",
   "id": "62aea0cd",
   "metadata": {},
   "source": [
    "### 8. How do you tell the difference between read() and readlines()?"
   ]
  },
  {
   "cell_type": "markdown",
   "id": "2e7c32d2",
   "metadata": {},
   "source": [
    "read() - reads from current cursor index till the index specified in paranthesis\n",
    "\n",
    "readlines()- reads file line by line and returnd it ad list form"
   ]
  },
  {
   "cell_type": "markdown",
   "id": "cfa24b18",
   "metadata": {},
   "source": [
    "### 9. What data structure does a shelf value resemble?"
   ]
  },
  {
   "cell_type": "markdown",
   "id": "b92b49b6",
   "metadata": {},
   "source": [
    "it contains keys and values resembling Dictionary"
   ]
  }
 ],
 "metadata": {
  "kernelspec": {
   "display_name": "Python 3 (ipykernel)",
   "language": "python",
   "name": "python3"
  },
  "language_info": {
   "codemirror_mode": {
    "name": "ipython",
    "version": 3
   },
   "file_extension": ".py",
   "mimetype": "text/x-python",
   "name": "python",
   "nbconvert_exporter": "python",
   "pygments_lexer": "ipython3",
   "version": "3.9.12"
  }
 },
 "nbformat": 4,
 "nbformat_minor": 5
}
