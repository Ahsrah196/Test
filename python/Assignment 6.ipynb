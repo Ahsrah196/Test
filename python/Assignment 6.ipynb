{
 "cells": [
  {
   "cell_type": "markdown",
   "id": "fab0cb34",
   "metadata": {},
   "source": [
    "# Assignment 6"
   ]
  },
  {
   "cell_type": "markdown",
   "id": "18021521",
   "metadata": {},
   "source": [
    "### 1. What are escape characters, and how do you use them?"
   ]
  },
  {
   "cell_type": "markdown",
   "id": "71795184",
   "metadata": {},
   "source": [
    "An escape character is a backslash \\ followed by the character you want to insert.\n",
    "\n",
    "character may be n-for newline \n",
    "                 t- for space\n"
   ]
  },
  {
   "cell_type": "markdown",
   "id": "3010a96c",
   "metadata": {},
   "source": [
    "### 2. What do the escape characters n and t stand for?"
   ]
  },
  {
   "cell_type": "markdown",
   "id": "f2bada4d",
   "metadata": {},
   "source": [
    "n- used for newline\n",
    "t is used for grnarating space "
   ]
  },
  {
   "cell_type": "code",
   "execution_count": 7,
   "id": "675b3007",
   "metadata": {},
   "outputs": [
    {
     "name": "stdout",
     "output_type": "stream",
     "text": [
      "jup\n",
      ";ter\n",
      "jup\ter\n"
     ]
    }
   ],
   "source": [
    "print(\"jup\\n;ter\")\n",
    "print(\"jup\\ter\")"
   ]
  },
  {
   "cell_type": "markdown",
   "id": "3eed480c",
   "metadata": {},
   "source": [
    "### 3. What is the way to include backslash characters in a string?"
   ]
  },
  {
   "cell_type": "markdown",
   "id": "b702a00f",
   "metadata": {},
   "source": [
    "The \\\\ escape character will represent the backslash character in a string"
   ]
  },
  {
   "cell_type": "markdown",
   "id": "8ea7d788",
   "metadata": {},
   "source": [
    "#### 4. The string &quot;Howl&#39;s Moving Castle&quot; is a correct value. Why isn&#39;t the single quote character in the\n",
    "#### word Howl&#39;s not escaped a problem?"
   ]
  },
  {
   "cell_type": "markdown",
   "id": "129e0e55",
   "metadata": {},
   "source": [
    "Because single quote of howl's is wrapped inside double quotes. "
   ]
  },
  {
   "cell_type": "markdown",
   "id": "4129a870",
   "metadata": {},
   "source": [
    "### 5. How do you write a string of newlines if you don&#39;t want to use the n character?"
   ]
  },
  {
   "cell_type": "code",
   "execution_count": 9,
   "id": "c24b89e7",
   "metadata": {},
   "outputs": [
    {
     "name": "stdout",
     "output_type": "stream",
     "text": [
      "hi hello\n",
      "how are you\n"
     ]
    }
   ],
   "source": [
    "#using  '''  '''\n",
    "\n",
    "a= '''hi hello\n",
    "how are you'''\n",
    "print(a)"
   ]
  },
  {
   "cell_type": "markdown",
   "id": "0564db03",
   "metadata": {},
   "source": [
    "### 6. What are the values of the given expressions?\n",
    "### &#39;Hello, world!&#39;[1]\n",
    "### &#39;Hello, world!&#39;[0:5]\n",
    "### &#39;Hello, world!&#39;[:5]\n",
    "### &#39;Hello, world!&#39;[3:]"
   ]
  },
  {
   "cell_type": "code",
   "execution_count": 10,
   "id": "97ec89fb",
   "metadata": {},
   "outputs": [
    {
     "data": {
      "text/plain": [
       "'e'"
      ]
     },
     "execution_count": 10,
     "metadata": {},
     "output_type": "execute_result"
    }
   ],
   "source": [
    "'hello,world!'[1]"
   ]
  },
  {
   "cell_type": "code",
   "execution_count": 11,
   "id": "83bd8bb2",
   "metadata": {},
   "outputs": [
    {
     "data": {
      "text/plain": [
       "'hello'"
      ]
     },
     "execution_count": 11,
     "metadata": {},
     "output_type": "execute_result"
    }
   ],
   "source": [
    "'hello,world!'[0:5]"
   ]
  },
  {
   "cell_type": "code",
   "execution_count": 12,
   "id": "a0b34dcb",
   "metadata": {},
   "outputs": [
    {
     "data": {
      "text/plain": [
       "'hello'"
      ]
     },
     "execution_count": 12,
     "metadata": {},
     "output_type": "execute_result"
    }
   ],
   "source": [
    "'hello,world!'[:5]"
   ]
  },
  {
   "cell_type": "code",
   "execution_count": 13,
   "id": "211f0319",
   "metadata": {},
   "outputs": [
    {
     "data": {
      "text/plain": [
       "'lo,world!'"
      ]
     },
     "execution_count": 13,
     "metadata": {},
     "output_type": "execute_result"
    }
   ],
   "source": [
    "'hello,world!'[3:]"
   ]
  },
  {
   "cell_type": "markdown",
   "id": "303f8ba3",
   "metadata": {},
   "source": [
    "### 7. What are the values of the following expressions?\n",
    "### &#39;Hello&#39;.upper()\n",
    "### &#39;Hello&#39;.upper().isupper()\n",
    "### &#39;Hello&#39;.upper().lower()"
   ]
  },
  {
   "cell_type": "code",
   "execution_count": 14,
   "id": "e27c8d22",
   "metadata": {},
   "outputs": [
    {
     "data": {
      "text/plain": [
       "'HELLO'"
      ]
     },
     "execution_count": 14,
     "metadata": {},
     "output_type": "execute_result"
    }
   ],
   "source": [
    "'hello'.upper()"
   ]
  },
  {
   "cell_type": "code",
   "execution_count": 18,
   "id": "17afc75e",
   "metadata": {},
   "outputs": [
    {
     "data": {
      "text/plain": [
       "True"
      ]
     },
     "execution_count": 18,
     "metadata": {},
     "output_type": "execute_result"
    }
   ],
   "source": [
    "'hello'.upper().isupper()"
   ]
  },
  {
   "cell_type": "code",
   "execution_count": 17,
   "id": "2ff5854b",
   "metadata": {},
   "outputs": [
    {
     "data": {
      "text/plain": [
       "'hello'"
      ]
     },
     "execution_count": 17,
     "metadata": {},
     "output_type": "execute_result"
    }
   ],
   "source": [
    "'hello'.upper().lower()"
   ]
  },
  {
   "cell_type": "markdown",
   "id": "f69f6ba4",
   "metadata": {},
   "source": [
    "### 8. What are the values of the following expressions?\n",
    "### &#39;Remember, remember, the fifth of July.&#39;.split()\n",
    "### &#39;-&#39;.join(&#39;There can only one.&#39;.split())"
   ]
  },
  {
   "cell_type": "code",
   "execution_count": 20,
   "id": "d3db8e06",
   "metadata": {},
   "outputs": [
    {
     "data": {
      "text/plain": [
       "['Remember,remember,', 'the', 'fifth', 'of', 'july.']"
      ]
     },
     "execution_count": 20,
     "metadata": {},
     "output_type": "execute_result"
    }
   ],
   "source": [
    "'Remember,remember, the fifth of july.'.split()"
   ]
  },
  {
   "cell_type": "code",
   "execution_count": 21,
   "id": "c6bffc70",
   "metadata": {},
   "outputs": [
    {
     "data": {
      "text/plain": [
       "'There-can-only-one.'"
      ]
     },
     "execution_count": 21,
     "metadata": {},
     "output_type": "execute_result"
    }
   ],
   "source": [
    "'-'.join('There can only one.'.split())"
   ]
  },
  {
   "cell_type": "markdown",
   "id": "d7bfc8fa",
   "metadata": {},
   "source": [
    "### 9. What are the methods for right-justifying, left-justifying, and centering a string?"
   ]
  },
  {
   "cell_type": "markdown",
   "id": "ad96dfd5",
   "metadata": {},
   "source": [
    "The methods such as rjust(), ljust(), center() are used "
   ]
  },
  {
   "cell_type": "code",
   "execution_count": 28,
   "id": "2356fa3f",
   "metadata": {},
   "outputs": [
    {
     "name": "stdout",
     "output_type": "stream",
     "text": [
      "-------------------hi,hello how are you \n",
      "hi,hello how are you -------------------\n",
      "#########hi,hello how are you ##########\n"
     ]
    }
   ],
   "source": [
    "str=\"hi,hello how are you \"\n",
    "\n",
    "print(str.rjust(40,'-'))\n",
    "print(str.ljust(40,'-'))\n",
    "print(str.center(40,'#'))"
   ]
  },
  {
   "cell_type": "markdown",
   "id": "43c614b7",
   "metadata": {},
   "source": [
    "### 10. What is the best way to remove whitespace characters from the start or end?"
   ]
  },
  {
   "cell_type": "markdown",
   "id": "ffad5a88",
   "metadata": {},
   "source": [
    "Using lstrip() and rstrip() methods "
   ]
  },
  {
   "cell_type": "code",
   "execution_count": 31,
   "id": "36758707",
   "metadata": {},
   "outputs": [
    {
     "name": "stdout",
     "output_type": "stream",
     "text": [
      "hi,hello how are you   \n",
      "  hi,hello how are you\n"
     ]
    }
   ],
   "source": [
    "str=\"  hi,hello how are you   \"\n",
    "print(str.lstrip())\n",
    "print(str.rstrip())"
   ]
  },
  {
   "cell_type": "code",
   "execution_count": null,
   "id": "d2dcd11e",
   "metadata": {},
   "outputs": [],
   "source": []
  }
 ],
 "metadata": {
  "kernelspec": {
   "display_name": "Python 3 (ipykernel)",
   "language": "python",
   "name": "python3"
  },
  "language_info": {
   "codemirror_mode": {
    "name": "ipython",
    "version": 3
   },
   "file_extension": ".py",
   "mimetype": "text/x-python",
   "name": "python",
   "nbconvert_exporter": "python",
   "pygments_lexer": "ipython3",
   "version": "3.9.12"
  }
 },
 "nbformat": 4,
 "nbformat_minor": 5
}
