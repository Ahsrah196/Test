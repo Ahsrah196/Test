{
 "cells": [
  {
   "cell_type": "markdown",
   "id": "26b2286f",
   "metadata": {},
   "source": [
    "# Assignment_2"
   ]
  },
  {
   "cell_type": "markdown",
   "id": "42b20cf5",
   "metadata": {},
   "source": [
    "### 1) What are the two values of the Boolean data type? How do you write them?"
   ]
  },
  {
   "cell_type": "markdown",
   "id": "55ba2768",
   "metadata": {},
   "source": [
    "TRUE and FALSE are two different boolean datatypes.\n"
   ]
  },
  {
   "cell_type": "code",
   "execution_count": 2,
   "id": "0ab73339",
   "metadata": {},
   "outputs": [
    {
     "name": "stdout",
     "output_type": "stream",
     "text": [
      "<class 'bool'> <class 'bool'>\n"
     ]
    }
   ],
   "source": [
    "a=True\n",
    "b=False\n",
    "\n",
    "print (type(a),type(b))"
   ]
  },
  {
   "cell_type": "markdown",
   "id": "afc37315",
   "metadata": {},
   "source": [
    "### 2)   What are the three different types of Boolean operators?"
   ]
  },
  {
   "cell_type": "markdown",
   "id": "e00beff7",
   "metadata": {},
   "source": [
    "AND, OR , NOT are boolean operators\n"
   ]
  },
  {
   "cell_type": "code",
   "execution_count": 3,
   "id": "48b1f7c5",
   "metadata": {},
   "outputs": [
    {
     "name": "stdout",
     "output_type": "stream",
     "text": [
      "False\n",
      "True\n",
      "False\n"
     ]
    }
   ],
   "source": [
    "a=True\n",
    "b=False\n",
    "\n",
    "print(a and b)\n",
    "print(a or b)\n",
    "print(not a)"
   ]
  },
  {
   "cell_type": "markdown",
   "id": "d51018f3",
   "metadata": {},
   "source": [
    "### 3) Make a list of each Boolean operator and thier truth tables (i.e. every possible combination of Boolean)"
   ]
  },
  {
   "cell_type": "markdown",
   "id": "97921bda",
   "metadata": {},
   "source": [
    "AND operaotor -\n",
    "True and True = True\n",
    "True and False = False\n",
    "False and True = False\n",
    "False and False = False\n",
    "\n",
    "\n",
    "OR operaotor\n",
    "True or True = True\n",
    "True or False = True\n",
    "False or True = True\n",
    "False and or = False\n",
    "\n",
    "\n",
    "NOT operaotor\n",
    "not(True)= false\n",
    "not(Flase)= True"
   ]
  },
  {
   "cell_type": "markdown",
   "id": "e5f39c7a",
   "metadata": {},
   "source": [
    "### 4) What are the values of the following expressions?"
   ]
  },
  {
   "cell_type": "code",
   "execution_count": 4,
   "id": "cb0ef88a",
   "metadata": {},
   "outputs": [
    {
     "name": "stdout",
     "output_type": "stream",
     "text": [
      "False\n",
      "False\n",
      "True\n",
      "False\n",
      "False\n",
      "True\n"
     ]
    }
   ],
   "source": [
    "print((5>4)and(3==5)) \n",
    "print(not(5>4)) \n",
    "print((5>4)or(3==5)) \n",
    "print(not((5>4)or(3==5))) \n",
    "print((True and True)and(True==False)) \n",
    "print((not False)or(not True)) "
   ]
  },
  {
   "cell_type": "markdown",
   "id": "a9b04783",
   "metadata": {},
   "source": [
    "### 5) What are the six comparison operators?"
   ]
  },
  {
   "cell_type": "markdown",
   "id": "9acba596",
   "metadata": {},
   "source": [
    " The Six comparision operators available in python are:\n",
    "== , != , < , > , <= , =>"
   ]
  },
  {
   "cell_type": "markdown",
   "id": "3879ec7b",
   "metadata": {},
   "source": [
    "### 6) How do you tell the difference between the equal to and assignment operators?Describe a\n",
    "### condition and when you would use one."
   ]
  },
  {
   "cell_type": "markdown",
   "id": "37ece4ca",
   "metadata": {},
   "source": [
    "(=) means it assigns a vlaue to a variable\n",
    "(==) means it will compare values of two variables \n"
   ]
  },
  {
   "cell_type": "code",
   "execution_count": 5,
   "id": "c88d98a7",
   "metadata": {},
   "outputs": [
    {
     "name": "stdout",
     "output_type": "stream",
     "text": [
      "10\n",
      "True\n"
     ]
    }
   ],
   "source": [
    "a=10\n",
    "print(a)\n",
    "\n",
    "b=10\n",
    "print(a==b)"
   ]
  },
  {
   "cell_type": "markdown",
   "id": "470463a8",
   "metadata": {},
   "source": [
    "### 7) Identify the three blocks in this code:\n",
    "\n"
   ]
  },
  {
   "cell_type": "markdown",
   "id": "04672719",
   "metadata": {},
   "source": [
    "spam = 0\n",
    "if spam == 10:\n",
    "print('eggs')\n",
    "if spam > 5:\n",
    "print('bacon')\n",
    "else:\n",
    "print('ham')\n",
    "print('spam')\n",
    "print('spam')"
   ]
  },
  {
   "cell_type": "code",
   "execution_count": 6,
   "id": "fdb300b0",
   "metadata": {},
   "outputs": [
    {
     "name": "stdout",
     "output_type": "stream",
     "text": [
      "ham\n",
      "spam\n",
      "spam\n"
     ]
    }
   ],
   "source": [
    "spam = 0  \n",
    "if spam == 10:  \n",
    "    print('eggs')  # 1st block \n",
    "if spam > 5:  \n",
    "    print('bacon')  # 2nd block \n",
    "else:  \n",
    "    print('ham')  # 3rd block \n",
    "print('spam')  \n",
    "print('spam')"
   ]
  },
  {
   "cell_type": "markdown",
   "id": "4f273b38",
   "metadata": {},
   "source": [
    "### 8)  Write code that prints Hello if 1 is stored in spam, prints Howdy if 2 is stored in spam, and prints\n",
    "### Greetings! if anything else is stored in spam."
   ]
  },
  {
   "cell_type": "code",
   "execution_count": 1,
   "id": "124801f5",
   "metadata": {},
   "outputs": [
    {
     "name": "stdout",
     "output_type": "stream",
     "text": [
      "Enter your number :3\n",
      "greeting\n"
     ]
    }
   ],
   "source": [
    "spam= int(input(\"Enter your number :\"))\n",
    "i=0\n",
    "while(i<1):\n",
    "    if spam==1 :\n",
    "        print(\"hello\")\n",
    "        break\n",
    "    elif spam==2 :\n",
    "        print(\"howdy\")\n",
    "        break\n",
    "      \n",
    "    else:\n",
    "        print(\"greeting\")\n",
    "        i+=1\n",
    "        "
   ]
  },
  {
   "cell_type": "markdown",
   "id": "7e9ca706",
   "metadata": {},
   "source": [
    "### 9) If your programme is stuck in an endless loop, what keys you’ll press?"
   ]
  },
  {
   "cell_type": "markdown",
   "id": "e54ed216",
   "metadata": {},
   "source": [
    "Press Ctrl-c to stop a program stuck in an infinite loop"
   ]
  },
  {
   "cell_type": "markdown",
   "id": "a2740660",
   "metadata": {},
   "source": [
    "### 10)How can you tell the difference between break and continue?"
   ]
  },
  {
   "cell_type": "markdown",
   "id": "e04236c1",
   "metadata": {},
   "source": [
    "The break statement will skip the execution of the remaining part of the loop if break condtion is satisfied. Whereas the continue statement will move the execution to the start of the loop skipping the execution of loop for that value  ."
   ]
  },
  {
   "cell_type": "markdown",
   "id": "7bb69f23",
   "metadata": {},
   "source": [
    "### 11) In a for loop, what is the difference between range(10), range(0, 10), and range(0, 10, 1)?"
   ]
  },
  {
   "cell_type": "markdown",
   "id": "698ebf6d",
   "metadata": {},
   "source": [
    "The range(10) call range from 0 to 9 (excluding include 10)\n",
    "The range (0,10) explicitly tells the loop to start at 0\n",
    "The range(0,10,1) explicitly tells the loop to increase the variable by 1 on each iteration\n",
    "\n",
    "all of them give the same output"
   ]
  },
  {
   "cell_type": "code",
   "execution_count": 2,
   "id": "13d444ca",
   "metadata": {},
   "outputs": [
    {
     "data": {
      "text/plain": [
       "range(0, 10)"
      ]
     },
     "execution_count": 2,
     "metadata": {},
     "output_type": "execute_result"
    }
   ],
   "source": [
    "range(10)"
   ]
  },
  {
   "cell_type": "code",
   "execution_count": 3,
   "id": "d76d862e",
   "metadata": {},
   "outputs": [
    {
     "data": {
      "text/plain": [
       "range(0, 10)"
      ]
     },
     "execution_count": 3,
     "metadata": {},
     "output_type": "execute_result"
    }
   ],
   "source": [
    "range(0,10)"
   ]
  },
  {
   "cell_type": "code",
   "execution_count": 4,
   "id": "bca0eb59",
   "metadata": {},
   "outputs": [
    {
     "data": {
      "text/plain": [
       "range(0, 10)"
      ]
     },
     "execution_count": 4,
     "metadata": {},
     "output_type": "execute_result"
    }
   ],
   "source": [
    "range(0,10,1)"
   ]
  },
  {
   "cell_type": "markdown",
   "id": "bf7ce47a",
   "metadata": {},
   "source": [
    "### 12) Write a short program that prints the numbers 1 to 10 using a for loop. Then write an equivalent\n",
    "### program that prints the numbers 1 to 10 using a while loop."
   ]
  },
  {
   "cell_type": "code",
   "execution_count": 6,
   "id": "62da33cc",
   "metadata": {},
   "outputs": [
    {
     "name": "stdout",
     "output_type": "stream",
     "text": [
      "0\n",
      "1\n",
      "2\n",
      "3\n",
      "4\n",
      "5\n",
      "6\n",
      "7\n",
      "8\n",
      "9\n",
      "10\n"
     ]
    }
   ],
   "source": [
    "for i in range(0,11):\n",
    "    print(i)"
   ]
  },
  {
   "cell_type": "code",
   "execution_count": 1,
   "id": "7ac7b5f5",
   "metadata": {
    "scrolled": true
   },
   "outputs": [
    {
     "name": "stdout",
     "output_type": "stream",
     "text": [
      "0\n",
      "1\n",
      "2\n",
      "3\n",
      "4\n",
      "5\n",
      "6\n",
      "7\n",
      "8\n",
      "9\n",
      "10\n"
     ]
    }
   ],
   "source": [
    "i=0\n",
    "while(i<11):\n",
    "    print(i)\n",
    "    i=i+1\n"
   ]
  },
  {
   "cell_type": "markdown",
   "id": "0847b5c4",
   "metadata": {},
   "source": [
    "### 13) If you had a function named bacon() inside a module named spam, how would you call it after\n",
    "### importing spam?"
   ]
  },
  {
   "cell_type": "code",
   "execution_count": null,
   "id": "c7d97e2c",
   "metadata": {},
   "outputs": [],
   "source": [
    "spam.bacon()"
   ]
  },
  {
   "cell_type": "code",
   "execution_count": null,
   "id": "ad86f2c2",
   "metadata": {},
   "outputs": [],
   "source": []
  },
  {
   "cell_type": "code",
   "execution_count": null,
   "id": "3b4e53fd",
   "metadata": {},
   "outputs": [],
   "source": []
  },
  {
   "cell_type": "code",
   "execution_count": null,
   "id": "d443681b",
   "metadata": {},
   "outputs": [],
   "source": []
  },
  {
   "cell_type": "code",
   "execution_count": null,
   "id": "1005e259",
   "metadata": {},
   "outputs": [],
   "source": []
  },
  {
   "cell_type": "code",
   "execution_count": null,
   "id": "b05ed080",
   "metadata": {},
   "outputs": [],
   "source": []
  },
  {
   "cell_type": "code",
   "execution_count": null,
   "id": "3ba98964",
   "metadata": {},
   "outputs": [],
   "source": []
  }
 ],
 "metadata": {
  "kernelspec": {
   "display_name": "Python 3 (ipykernel)",
   "language": "python",
   "name": "python3"
  },
  "language_info": {
   "codemirror_mode": {
    "name": "ipython",
    "version": 3
   },
   "file_extension": ".py",
   "mimetype": "text/x-python",
   "name": "python",
   "nbconvert_exporter": "python",
   "pygments_lexer": "ipython3",
   "version": "3.9.12"
  }
 },
 "nbformat": 4,
 "nbformat_minor": 5
}
