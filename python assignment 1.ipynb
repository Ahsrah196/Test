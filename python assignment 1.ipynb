{
 "cells": [
  {
   "cell_type": "markdown",
   "metadata": {},
   "source": [
    "# 1) ans \n",
    "     \n"
   ]
  },
  {
   "cell_type": "markdown",
   "metadata": {},
   "source": [
    "    *         -> expession\n",
    "    \n",
    "    'hello'   -> value\n",
    "    \n",
    "    -87.8     -> value \n",
    "    \n",
    "    -         -> expression\n",
    "    \n",
    "    /         -> expression \n",
    "    \n",
    "    +         -> expression\n",
    "    \n",
    "    6         -> value"
   ]
  },
  {
   "cell_type": "markdown",
   "metadata": {},
   "source": [
    " # 2) ans\n",
    " \n",
    " "
   ]
  },
  {
   "cell_type": "markdown",
   "metadata": {},
   "source": [
    " Variable stores information  it is just like container that stores items \n",
    " String is a type of variable that stores a sequence of characters.\n",
    "  These characters can be numeric OR alphabets OR alphanumeric \n",
    "  \n",
    "  example-  \"hello\" , \"1235\" , \"h1q23t\""
   ]
  },
  {
   "cell_type": "markdown",
   "metadata": {},
   "source": [
    "#  3) ans\n"
   ]
  },
  {
   "cell_type": "markdown",
   "metadata": {},
   "source": [
    "Different types of data types are \n",
    "\n",
    "1) int\n",
    "           example - 1,2,6,77,888\n",
    "    \n",
    "    \n",
    "2)  boolean- takes true or false values \n",
    "           \n",
    "\n",
    "3) string -  type of variable that stores a sequence of characters\n",
    "           example- \"hello\", \"jhuy6\" ,\"9876\"\n",
    "\n"
   ]
  },
  {
   "cell_type": "markdown",
   "metadata": {},
   "source": [
    "# 4) ans"
   ]
  },
  {
   "cell_type": "markdown",
   "metadata": {},
   "source": [
    "Expessions are combinations of operands(numbers, strings) and operators(+,-,*,/) , arranged in such that it produces meaningful output on execution."
   ]
  },
  {
   "cell_type": "code",
   "execution_count": 2,
   "metadata": {},
   "outputs": [
    {
     "name": "stdout",
     "output_type": "stream",
     "text": [
      "196.0\n"
     ]
    }
   ],
   "source": [
    "#example\n",
    "\n",
    "a=10\n",
    "b=20\n",
    "c=2\n",
    "d=7\n",
    "e=1\n",
    "print(((a+b-c)*d)/e)"
   ]
  },
  {
   "cell_type": "markdown",
   "metadata": {},
   "source": [
    "# 5) ans"
   ]
  },
  {
   "cell_type": "markdown",
   "metadata": {},
   "source": [
    "Expressions are made from combinations of values and mathematical operations performed on them \n",
    "\n",
    "in spam =10  \n",
    "   spam is the variable name created in the memory that stores the value  10 in it."
   ]
  },
  {
   "cell_type": "markdown",
   "metadata": {},
   "source": [
    "# 6) ans"
   ]
  },
  {
   "cell_type": "code",
   "execution_count": 3,
   "metadata": {},
   "outputs": [
    {
     "data": {
      "text/plain": [
       "23"
      ]
     },
     "execution_count": 3,
     "metadata": {},
     "output_type": "execute_result"
    }
   ],
   "source": [
    "bacon = 22\n",
    "bacon + 1"
   ]
  },
  {
   "cell_type": "markdown",
   "metadata": {},
   "source": [
    " bacon has a value of 23 in it "
   ]
  },
  {
   "cell_type": "markdown",
   "metadata": {},
   "source": [
    "# 7) ans\n"
   ]
  },
  {
   "cell_type": "code",
   "execution_count": 4,
   "metadata": {},
   "outputs": [
    {
     "data": {
      "text/plain": [
       "'spamspamspam'"
      ]
     },
     "execution_count": 4,
     "metadata": {},
     "output_type": "execute_result"
    }
   ],
   "source": [
    "\"spam\"+ \"spamspam\""
   ]
  },
  {
   "cell_type": "code",
   "execution_count": 5,
   "metadata": {},
   "outputs": [
    {
     "data": {
      "text/plain": [
       "'spamspamspam'"
      ]
     },
     "execution_count": 5,
     "metadata": {},
     "output_type": "execute_result"
    }
   ],
   "source": [
    "\"spam\"*3"
   ]
  },
  {
   "cell_type": "markdown",
   "metadata": {},
   "source": [
    "# 8) ans\n"
   ]
  },
  {
   "cell_type": "markdown",
   "metadata": {},
   "source": [
    "We can start a variable name only with alphabets(or) underscore but not numbers(or) reserved keywords \n",
    "\n",
    "\n",
    "so , egg is valid and 100 is invalid  variable name"
   ]
  },
  {
   "cell_type": "markdown",
   "metadata": {},
   "source": [
    "# 9) ans\n"
   ]
  },
  {
   "cell_type": "markdown",
   "metadata": {},
   "source": [
    "We use typecasting for this purpose \n",
    " int(), float(), str() functions are used to do so"
   ]
  },
  {
   "cell_type": "code",
   "execution_count": 10,
   "metadata": {},
   "outputs": [
    {
     "name": "stdout",
     "output_type": "stream",
     "text": [
      "10.0\n",
      "10\n",
      "10\n"
     ]
    }
   ],
   "source": [
    "# exaample-\n",
    "\n",
    "a=10\n",
    "print(float(a))\n",
    "print(int(a))\n",
    "print(str(a))"
   ]
  },
  {
   "cell_type": "markdown",
   "metadata": {},
   "source": [
    "# 10) ans\n"
   ]
  },
  {
   "cell_type": "markdown",
   "metadata": {},
   "source": [
    "\" i have eaten\"+ 99 +\"burritos\"\n",
    "\n",
    "        Here  \"i have eaten\" = string variable\n",
    "                         99  = int variable\n",
    "                 \"burritos\"  = string variable\n",
    "            \n",
    "            \n",
    "             so, concatination of strings is not possible because of different  data types \n",
    "              hence convert 99 to string data type "
   ]
  },
  {
   "cell_type": "code",
   "execution_count": 13,
   "metadata": {},
   "outputs": [
    {
     "data": {
      "text/plain": [
       "' I have eaten 99 burritos'"
      ]
     },
     "execution_count": 13,
     "metadata": {},
     "output_type": "execute_result"
    }
   ],
   "source": [
    "\" I have eaten\" +\" \" + \"99\" +\" \" + \"burritos\""
   ]
  },
  {
   "cell_type": "code",
   "execution_count": null,
   "metadata": {},
   "outputs": [],
   "source": []
  }
 ],
 "metadata": {
  "kernelspec": {
   "display_name": "Python 3",
   "language": "python",
   "name": "python3"
  },
  "language_info": {
   "codemirror_mode": {
    "name": "ipython",
    "version": 3
   },
   "file_extension": ".py",
   "mimetype": "text/x-python",
   "name": "python",
   "nbconvert_exporter": "python",
   "pygments_lexer": "ipython3",
   "version": "3.7.3"
  }
 },
 "nbformat": 4,
 "nbformat_minor": 2
}
