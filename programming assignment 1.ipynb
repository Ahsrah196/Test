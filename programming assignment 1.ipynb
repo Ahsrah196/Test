{
 "cells": [
  {
   "cell_type": "markdown",
   "id": "05a7a1fa",
   "metadata": {},
   "source": [
    "# Programming assignment 1"
   ]
  },
  {
   "cell_type": "markdown",
   "id": "d605c1f7",
   "metadata": {},
   "source": [
    "###  1)"
   ]
  },
  {
   "cell_type": "code",
   "execution_count": 1,
   "id": "2b9bd53a",
   "metadata": {},
   "outputs": [
    {
     "name": "stdout",
     "output_type": "stream",
     "text": [
      " hello python\n"
     ]
    }
   ],
   "source": [
    "print(\" hello python\")"
   ]
  },
  {
   "cell_type": "markdown",
   "id": "2e7842ae",
   "metadata": {},
   "source": [
    "###  2)"
   ]
  },
  {
   "cell_type": "code",
   "execution_count": 2,
   "id": "aab599f1",
   "metadata": {},
   "outputs": [
    {
     "name": "stdout",
     "output_type": "stream",
     "text": [
      "8\n",
      "0.3333333333333333\n"
     ]
    }
   ],
   "source": [
    "a=2\n",
    "b=6\n",
    "print(a+b)\n",
    "print(a/b)"
   ]
  },
  {
   "cell_type": "markdown",
   "id": "cbccdb42",
   "metadata": {},
   "source": [
    "### 3)\n"
   ]
  },
  {
   "cell_type": "code",
   "execution_count": 4,
   "id": "f1729b73",
   "metadata": {},
   "outputs": [
    {
     "name": "stdout",
     "output_type": "stream",
     "text": [
      "16.0\n"
     ]
    }
   ],
   "source": [
    "b=4\n",
    "h=8\n",
    "\n",
    "area= 1/2*(b*h)\n",
    "\n",
    "print (area)"
   ]
  },
  {
   "cell_type": "markdown",
   "id": "ac4782ce",
   "metadata": {},
   "source": [
    "### 4)"
   ]
  },
  {
   "cell_type": "code",
   "execution_count": 8,
   "id": "ae951102",
   "metadata": {},
   "outputs": [
    {
     "name": "stdout",
     "output_type": "stream",
     "text": [
      "7\n",
      "2\n"
     ]
    }
   ],
   "source": [
    "a=2\n",
    "b=7\n",
    "\n",
    "a,b=b,a\n",
    "\n",
    "print(a)\n",
    "print(b)"
   ]
  },
  {
   "cell_type": "code",
   "execution_count": 11,
   "id": "5f028068",
   "metadata": {},
   "outputs": [
    {
     "name": "stdout",
     "output_type": "stream",
     "text": [
      "9\n"
     ]
    }
   ],
   "source": [
    "import random\n",
    "\n",
    "print (random.randint(0,99))"
   ]
  },
  {
   "cell_type": "code",
   "execution_count": null,
   "id": "c8884407",
   "metadata": {},
   "outputs": [],
   "source": []
  }
 ],
 "metadata": {
  "kernelspec": {
   "display_name": "Python 3 (ipykernel)",
   "language": "python",
   "name": "python3"
  },
  "language_info": {
   "codemirror_mode": {
    "name": "ipython",
    "version": 3
   },
   "file_extension": ".py",
   "mimetype": "text/x-python",
   "name": "python",
   "nbconvert_exporter": "python",
   "pygments_lexer": "ipython3",
   "version": "3.9.12"
  }
 },
 "nbformat": 4,
 "nbformat_minor": 5
}
